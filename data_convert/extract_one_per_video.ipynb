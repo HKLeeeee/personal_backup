{
 "cells": [
  {
   "cell_type": "code",
   "execution_count": 1,
   "metadata": {},
   "outputs": [],
   "source": [
    "from glob import glob\n",
    "import os\n",
    "import zipfile\n",
    "import random \n",
    "from pathlib import Path\n",
    "import shutil\n",
    "from tqdm import tqdm\n",
    "\n",
    "def unzip(file_path, dest='.') :\n",
    "    if not os.path.isdir(dest):\n",
    "        os.makedirs(dest)\n",
    "    \n",
    "    print('[unzipping]', end=' ')\n",
    "    with zipfile.ZipFile(file_path, 'r') as zip_ref :\n",
    "        zip_ref.extractall(dest)\n",
    "    print('done!')\n",
    "    \n",
    "def extract_one(image_folder, dest):\n",
    "    img_files = os.listdir(image_folder)\n",
    "    selected = random.sample(img_files, 1)[0] ### 1장 추출\n",
    "    shutil.move(image_folder / selected, dest / selected)"
   ]
  },
  {
   "cell_type": "code",
   "execution_count": 2,
   "metadata": {},
   "outputs": [],
   "source": [
    "root = Path('/storage/교통문제 해결을 위한 CCTV 교통 영상(시내도로)/')\n",
    "dirs = list(root.glob('**/images/*.zip'))\n",
    "#print(dirs[0])\n",
    "\n",
    "val_dest = root / 'Validation/교통안전(Bbox)/frame_image'\n",
    "train_dest = root / 'Training/교통안전(Bbox)/frame_image'"
   ]
  },
  {
   "cell_type": "code",
   "execution_count": 3,
   "metadata": {},
   "outputs": [
    {
     "name": "stderr",
     "output_type": "stream",
     "text": [
      "  0%|          | 0/67 [00:00<?, ?it/s]"
     ]
    },
    {
     "name": "stdout",
     "output_type": "stream",
     "text": [
      "/storage/교통문제 해결을 위한 CCTV 교통 영상(시내도로)/Validation/교통안전(Bbox)/images/[원천]국민은행 심곡점 앞.zip\n",
      "[unzipping] "
     ]
    },
    {
     "name": "stderr",
     "output_type": "stream",
     "text": [
      "  1%|▏         | 1/67 [00:00<00:28,  2.35it/s]"
     ]
    },
    {
     "name": "stdout",
     "output_type": "stream",
     "text": [
      "done!\n",
      "/storage/교통문제 해결을 위한 CCTV 교통 영상(시내도로)/Validation/교통안전(Bbox)/images/[원천]디아뜨갤러리 앞 (포도마을 맞은편).zip\n",
      "[unzipping] "
     ]
    },
    {
     "name": "stderr",
     "output_type": "stream",
     "text": [
      "  3%|▎         | 2/67 [00:00<00:29,  2.24it/s]"
     ]
    },
    {
     "name": "stdout",
     "output_type": "stream",
     "text": [
      "done!\n",
      "/storage/교통문제 해결을 위한 CCTV 교통 영상(시내도로)/Validation/교통안전(Bbox)/images/[원천]김가네 상동점 앞 (홈플러스 진입로 앞).zip\n",
      "[unzipping] "
     ]
    },
    {
     "name": "stderr",
     "output_type": "stream",
     "text": [
      "  4%|▍         | 3/67 [00:02<00:52,  1.21it/s]"
     ]
    },
    {
     "name": "stdout",
     "output_type": "stream",
     "text": [
      "done!\n",
      "/storage/교통문제 해결을 위한 CCTV 교통 영상(시내도로)/Validation/교통안전(Bbox)/images/[원천]충대서문네거리.zip\n",
      "[unzipping] "
     ]
    },
    {
     "name": "stderr",
     "output_type": "stream",
     "text": [
      "  6%|▌         | 4/67 [00:06<02:31,  2.40s/it]"
     ]
    },
    {
     "name": "stdout",
     "output_type": "stream",
     "text": [
      "done!\n",
      "/storage/교통문제 해결을 위한 CCTV 교통 영상(시내도로)/Validation/교통안전(Bbox)/images/[원천]용반네거리.zip\n",
      "[unzipping] "
     ]
    },
    {
     "name": "stderr",
     "output_type": "stream",
     "text": [
      "  7%|▋         | 5/67 [00:08<02:17,  2.22s/it]"
     ]
    },
    {
     "name": "stdout",
     "output_type": "stream",
     "text": [
      "done!\n",
      "/storage/교통문제 해결을 위한 CCTV 교통 영상(시내도로)/Validation/교통안전(Bbox)/images/[원천]부천IC 자동차매매단지 앞.zip\n",
      "[unzipping] "
     ]
    },
    {
     "name": "stderr",
     "output_type": "stream",
     "text": [
      "  9%|▉         | 6/67 [00:09<01:46,  1.74s/it]"
     ]
    },
    {
     "name": "stdout",
     "output_type": "stream",
     "text": [
      "done!\n",
      "/storage/교통문제 해결을 위한 CCTV 교통 영상(시내도로)/Validation/교통안전(Bbox)/images/[원천]진터지하차도.zip\n",
      "[unzipping] "
     ]
    },
    {
     "name": "stderr",
     "output_type": "stream",
     "text": [
      " 10%|█         | 7/67 [00:13<02:16,  2.28s/it]"
     ]
    },
    {
     "name": "stdout",
     "output_type": "stream",
     "text": [
      "done!\n",
      "/storage/교통문제 해결을 위한 CCTV 교통 영상(시내도로)/Validation/교통안전(Bbox)/images/[원천]소신여객 앞.zip\n",
      "[unzipping] "
     ]
    },
    {
     "name": "stderr",
     "output_type": "stream",
     "text": [
      " 12%|█▏        | 8/67 [00:13<01:41,  1.72s/it]"
     ]
    },
    {
     "name": "stdout",
     "output_type": "stream",
     "text": [
      "done!\n",
      "/storage/교통문제 해결을 위한 CCTV 교통 영상(시내도로)/Validation/교통안전(Bbox)/images/[원천]원종 철골공영주차장 (마사회).zip\n",
      "[unzipping] "
     ]
    },
    {
     "name": "stderr",
     "output_type": "stream",
     "text": [
      " 13%|█▎        | 9/67 [00:15<01:46,  1.83s/it]"
     ]
    },
    {
     "name": "stdout",
     "output_type": "stream",
     "text": [
      "done!\n",
      "/storage/교통문제 해결을 위한 CCTV 교통 영상(시내도로)/Validation/교통안전(Bbox)/images/[원천]중동IC하부(판교진출).zip\n",
      "[unzipping] "
     ]
    },
    {
     "name": "stderr",
     "output_type": "stream",
     "text": [
      " 15%|█▍        | 10/67 [00:16<01:29,  1.56s/it]"
     ]
    },
    {
     "name": "stdout",
     "output_type": "stream",
     "text": [
      "done!\n",
      "/storage/교통문제 해결을 위한 CCTV 교통 영상(시내도로)/Validation/교통안전(Bbox)/images/[원천]신한은행 중동점 부근.zip\n",
      "[unzipping] "
     ]
    },
    {
     "name": "stderr",
     "output_type": "stream",
     "text": [
      " 16%|█▋        | 11/67 [00:17<01:12,  1.30s/it]"
     ]
    },
    {
     "name": "stdout",
     "output_type": "stream",
     "text": [
      "done!\n",
      "/storage/교통문제 해결을 위한 CCTV 교통 영상(시내도로)/Validation/교통안전(Bbox)/images/[원천]사단사거리.zip\n",
      "[unzipping] "
     ]
    },
    {
     "name": "stderr",
     "output_type": "stream",
     "text": [
      " 18%|█▊        | 12/67 [00:19<01:20,  1.46s/it]"
     ]
    },
    {
     "name": "stdout",
     "output_type": "stream",
     "text": [
      "done!\n",
      "/storage/교통문제 해결을 위한 CCTV 교통 영상(시내도로)/Validation/교통안전(Bbox)/images/[원천]웨스턴파크 (부천역전우체국 건너편).zip\n",
      "[unzipping] "
     ]
    },
    {
     "name": "stderr",
     "output_type": "stream",
     "text": [
      " 19%|█▉        | 13/67 [00:19<00:58,  1.08s/it]"
     ]
    },
    {
     "name": "stdout",
     "output_type": "stream",
     "text": [
      "done!\n",
      "/storage/교통문제 해결을 위한 CCTV 교통 영상(시내도로)/Validation/교통안전(Bbox)/images/[원천]과학공원네거리.zip\n",
      "[unzipping] "
     ]
    },
    {
     "name": "stderr",
     "output_type": "stream",
     "text": [
      " 21%|██        | 14/67 [00:21<01:19,  1.50s/it]"
     ]
    },
    {
     "name": "stdout",
     "output_type": "stream",
     "text": [
      "done!\n",
      "/storage/교통문제 해결을 위한 CCTV 교통 영상(시내도로)/Validation/교통안전(Bbox)/images/[원천]소사회주로삼거리.zip\n",
      "[unzipping] "
     ]
    },
    {
     "name": "stderr",
     "output_type": "stream",
     "text": [
      " 22%|██▏       | 15/67 [00:23<01:26,  1.66s/it]"
     ]
    },
    {
     "name": "stdout",
     "output_type": "stream",
     "text": [
      "done!\n",
      "/storage/교통문제 해결을 위한 CCTV 교통 영상(시내도로)/Validation/교통안전(Bbox)/images/[원천]중동사거리.zip\n",
      "[unzipping] "
     ]
    },
    {
     "name": "stderr",
     "output_type": "stream",
     "text": [
      " 24%|██▍       | 16/67 [00:27<01:48,  2.13s/it]"
     ]
    },
    {
     "name": "stdout",
     "output_type": "stream",
     "text": [
      "done!\n",
      "/storage/교통문제 해결을 위한 CCTV 교통 영상(시내도로)/Validation/교통안전(Bbox)/images/[원천]소방서사거리.zip\n",
      "[unzipping] "
     ]
    },
    {
     "name": "stderr",
     "output_type": "stream",
     "text": [
      " 25%|██▌       | 17/67 [00:34<02:58,  3.57s/it]"
     ]
    },
    {
     "name": "stdout",
     "output_type": "stream",
     "text": [
      "done!\n",
      "/storage/교통문제 해결을 위한 CCTV 교통 영상(시내도로)/Validation/교통안전(Bbox)/images/[원천]현대블루핸즈 소사점 부근.zip\n",
      "[unzipping] "
     ]
    },
    {
     "name": "stderr",
     "output_type": "stream",
     "text": [
      " 27%|██▋       | 18/67 [00:34<02:05,  2.56s/it]"
     ]
    },
    {
     "name": "stdout",
     "output_type": "stream",
     "text": [
      "done!\n",
      "/storage/교통문제 해결을 위한 CCTV 교통 영상(시내도로)/Validation/교통안전(Bbox)/images/[원천]부천남부역 공영주차장.zip\n",
      "[unzipping] "
     ]
    },
    {
     "name": "stderr",
     "output_type": "stream",
     "text": [
      " 28%|██▊       | 19/67 [00:34<01:31,  1.91s/it]"
     ]
    },
    {
     "name": "stdout",
     "output_type": "stream",
     "text": [
      "done!\n",
      "/storage/교통문제 해결을 위한 CCTV 교통 영상(시내도로)/Validation/교통안전(Bbox)/images/[원천]오정물류단지(하행).zip\n",
      "[unzipping] "
     ]
    },
    {
     "name": "stderr",
     "output_type": "stream",
     "text": [
      " 30%|██▉       | 20/67 [00:36<01:22,  1.76s/it]"
     ]
    },
    {
     "name": "stdout",
     "output_type": "stream",
     "text": [
      "done!\n",
      "/storage/교통문제 해결을 위한 CCTV 교통 영상(시내도로)/Validation/교통안전(Bbox)/images/[원천]보강센트럴빌 2차 앞.zip\n",
      "[unzipping] "
     ]
    },
    {
     "name": "stderr",
     "output_type": "stream",
     "text": [
      " 31%|███▏      | 21/67 [00:36<01:03,  1.39s/it]"
     ]
    },
    {
     "name": "stdout",
     "output_type": "stream",
     "text": [
      "done!\n",
      "/storage/교통문제 해결을 위한 CCTV 교통 영상(시내도로)/Validation/교통안전(Bbox)/images/[원천]연구단지네거리.zip\n",
      "[unzipping] "
     ]
    },
    {
     "name": "stderr",
     "output_type": "stream",
     "text": [
      " 33%|███▎      | 22/67 [00:40<01:37,  2.17s/it]"
     ]
    },
    {
     "name": "stdout",
     "output_type": "stream",
     "text": [
      "done!\n",
      "/storage/교통문제 해결을 위한 CCTV 교통 영상(시내도로)/Validation/교통안전(Bbox)/images/[원천]범박터널-범박1교방향.zip\n",
      "[unzipping] "
     ]
    },
    {
     "name": "stderr",
     "output_type": "stream",
     "text": [
      " 34%|███▍      | 23/67 [00:42<01:34,  2.14s/it]"
     ]
    },
    {
     "name": "stdout",
     "output_type": "stream",
     "text": [
      "done!\n",
      "/storage/교통문제 해결을 위한 CCTV 교통 영상(시내도로)/Validation/교통안전(Bbox)/images/[원천]삼정고가교.zip\n",
      "[unzipping] "
     ]
    },
    {
     "name": "stderr",
     "output_type": "stream",
     "text": [
      " 36%|███▌      | 24/67 [00:45<01:45,  2.46s/it]"
     ]
    },
    {
     "name": "stdout",
     "output_type": "stream",
     "text": [
      "done!\n",
      "/storage/교통문제 해결을 위한 CCTV 교통 영상(시내도로)/Validation/교통안전(Bbox)/images/[원천]소사역앞.zip\n",
      "[unzipping] "
     ]
    },
    {
     "name": "stderr",
     "output_type": "stream",
     "text": [
      " 37%|███▋      | 25/67 [00:46<01:24,  2.01s/it]"
     ]
    },
    {
     "name": "stdout",
     "output_type": "stream",
     "text": [
      "done!\n",
      "/storage/교통문제 해결을 위한 CCTV 교통 영상(시내도로)/Validation/교통안전(Bbox)/images/[원천]역곡남부역사거리.zip\n",
      "[unzipping] "
     ]
    },
    {
     "name": "stderr",
     "output_type": "stream",
     "text": [
      " 39%|███▉      | 26/67 [00:47<01:11,  1.75s/it]"
     ]
    },
    {
     "name": "stdout",
     "output_type": "stream",
     "text": [
      "done!\n",
      "/storage/교통문제 해결을 위한 CCTV 교통 영상(시내도로)/Validation/교통안전(Bbox)/images/[원천]멀뫼사거리.zip\n",
      "[unzipping] "
     ]
    },
    {
     "name": "stderr",
     "output_type": "stream",
     "text": [
      " 40%|████      | 27/67 [00:49<01:06,  1.67s/it]"
     ]
    },
    {
     "name": "stdout",
     "output_type": "stream",
     "text": [
      "done!\n",
      "/storage/교통문제 해결을 위한 CCTV 교통 영상(시내도로)/Validation/교통안전(Bbox)/images/[원천]아이쇼핑 앞.zip\n",
      "[unzipping] "
     ]
    },
    {
     "name": "stderr",
     "output_type": "stream",
     "text": [
      " 42%|████▏     | 28/67 [00:49<00:48,  1.24s/it]"
     ]
    },
    {
     "name": "stdout",
     "output_type": "stream",
     "text": [
      "done!\n",
      "/storage/교통문제 해결을 위한 CCTV 교통 영상(시내도로)/Validation/교통안전(Bbox)/images/[원천]넘말사거리.zip\n",
      "[unzipping] "
     ]
    },
    {
     "name": "stderr",
     "output_type": "stream",
     "text": [
      " 43%|████▎     | 29/67 [00:51<00:50,  1.34s/it]"
     ]
    },
    {
     "name": "stdout",
     "output_type": "stream",
     "text": [
      "done!\n",
      "/storage/교통문제 해결을 위한 CCTV 교통 영상(시내도로)/Validation/교통안전(Bbox)/images/[원천]LG전자 부천랜드점 부근.zip\n",
      "[unzipping] "
     ]
    },
    {
     "name": "stderr",
     "output_type": "stream",
     "text": [
      " 45%|████▍     | 30/67 [00:51<00:40,  1.10s/it]"
     ]
    },
    {
     "name": "stdout",
     "output_type": "stream",
     "text": [
      "done!\n",
      "/storage/교통문제 해결을 위한 CCTV 교통 영상(시내도로)/Training/교통안전(Bbox)/images/[원천]국민은행 심곡점 앞.zip\n",
      "[unzipping] "
     ]
    },
    {
     "name": "stderr",
     "output_type": "stream",
     "text": [
      " 46%|████▋     | 31/67 [00:56<01:22,  2.30s/it]"
     ]
    },
    {
     "name": "stdout",
     "output_type": "stream",
     "text": [
      "done!\n",
      "/storage/교통문제 해결을 위한 CCTV 교통 영상(시내도로)/Training/교통안전(Bbox)/images/[원천]디아뜨갤러리 앞 (포도마을 맞은편).zip\n",
      "[unzipping] done!\n"
     ]
    },
    {
     "name": "stderr",
     "output_type": "stream",
     "text": [
      " 48%|████▊     | 32/67 [01:06<02:33,  4.38s/it]"
     ]
    },
    {
     "name": "stdout",
     "output_type": "stream",
     "text": [
      "/storage/교통문제 해결을 위한 CCTV 교통 영상(시내도로)/Training/교통안전(Bbox)/images/[원천]김가네 상동점 앞 (홈플러스 진입로 앞).zip\n",
      "[unzipping] done!\n"
     ]
    },
    {
     "name": "stderr",
     "output_type": "stream",
     "text": [
      " 49%|████▉     | 33/67 [01:18<03:54,  6.91s/it]"
     ]
    },
    {
     "name": "stdout",
     "output_type": "stream",
     "text": [
      "/storage/교통문제 해결을 위한 CCTV 교통 영상(시내도로)/Training/교통안전(Bbox)/images/[원천]충대서문네거리.zip\n",
      "[unzipping] done!\n"
     ]
    },
    {
     "name": "stderr",
     "output_type": "stream",
     "text": [
      " 51%|█████     | 34/67 [01:35<05:26,  9.89s/it]"
     ]
    },
    {
     "name": "stdout",
     "output_type": "stream",
     "text": [
      "/storage/교통문제 해결을 위한 CCTV 교통 영상(시내도로)/Training/교통안전(Bbox)/images/[원천]계룡대교네거리.zip\n",
      "[unzipping] done!\n"
     ]
    },
    {
     "name": "stderr",
     "output_type": "stream",
     "text": [
      " 52%|█████▏    | 35/67 [01:57<07:09, 13.41s/it]"
     ]
    },
    {
     "name": "stdout",
     "output_type": "stream",
     "text": [
      "/storage/교통문제 해결을 위한 CCTV 교통 영상(시내도로)/Training/교통안전(Bbox)/images/[원천]충대오거리.zip\n",
      "[unzipping] done!\n"
     ]
    },
    {
     "name": "stderr",
     "output_type": "stream",
     "text": [
      " 54%|█████▎    | 36/67 [02:04<05:53, 11.41s/it]"
     ]
    },
    {
     "name": "stdout",
     "output_type": "stream",
     "text": [
      "/storage/교통문제 해결을 위한 CCTV 교통 영상(시내도로)/Training/교통안전(Bbox)/images/[원천]용반네거리.zip\n",
      "[unzipping] done!\n"
     ]
    },
    {
     "name": "stderr",
     "output_type": "stream",
     "text": [
      " 55%|█████▌    | 37/67 [02:20<06:29, 12.98s/it]"
     ]
    },
    {
     "name": "stdout",
     "output_type": "stream",
     "text": [
      "/storage/교통문제 해결을 위한 CCTV 교통 영상(시내도로)/Training/교통안전(Bbox)/images/[원천]부천IC 자동차매매단지 앞.zip\n",
      "[unzipping] "
     ]
    },
    {
     "name": "stderr",
     "output_type": "stream",
     "text": [
      " 57%|█████▋    | 38/67 [02:27<05:20, 11.05s/it]"
     ]
    },
    {
     "name": "stdout",
     "output_type": "stream",
     "text": [
      "done!\n",
      "/storage/교통문제 해결을 위한 CCTV 교통 영상(시내도로)/Training/교통안전(Bbox)/images/[원천]진터지하차도.zip\n",
      "[unzipping] done!\n"
     ]
    },
    {
     "name": "stderr",
     "output_type": "stream",
     "text": [
      " 58%|█████▊    | 39/67 [02:44<05:59, 12.85s/it]"
     ]
    },
    {
     "name": "stdout",
     "output_type": "stream",
     "text": [
      "/storage/교통문제 해결을 위한 CCTV 교통 영상(시내도로)/Training/교통안전(Bbox)/images/[원천]원골네거리.zip\n",
      "[unzipping] done!\n"
     ]
    },
    {
     "name": "stderr",
     "output_type": "stream",
     "text": [
      " 60%|█████▉    | 40/67 [03:26<09:43, 21.59s/it]"
     ]
    },
    {
     "name": "stdout",
     "output_type": "stream",
     "text": [
      "/storage/교통문제 해결을 위한 CCTV 교통 영상(시내도로)/Training/교통안전(Bbox)/images/[원천]갑천교네거리.zip\n",
      "[unzipping] done!\n"
     ]
    },
    {
     "name": "stderr",
     "output_type": "stream",
     "text": [
      " 61%|██████    | 41/67 [04:10<12:16, 28.34s/it]"
     ]
    },
    {
     "name": "stdout",
     "output_type": "stream",
     "text": [
      "/storage/교통문제 해결을 위한 CCTV 교통 영상(시내도로)/Training/교통안전(Bbox)/images/[원천]소신여객 앞.zip\n",
      "[unzipping] "
     ]
    },
    {
     "name": "stderr",
     "output_type": "stream",
     "text": [
      " 63%|██████▎   | 42/67 [04:17<09:09, 22.00s/it]"
     ]
    },
    {
     "name": "stdout",
     "output_type": "stream",
     "text": [
      "done!\n",
      "/storage/교통문제 해결을 위한 CCTV 교통 영상(시내도로)/Training/교통안전(Bbox)/images/[원천]원종 철골공영주차장 (마사회).zip\n",
      "[unzipping] done!\n"
     ]
    },
    {
     "name": "stderr",
     "output_type": "stream",
     "text": [
      " 64%|██████▍   | 43/67 [04:31<07:47, 19.49s/it]"
     ]
    },
    {
     "name": "stdout",
     "output_type": "stream",
     "text": [
      "/storage/교통문제 해결을 위한 CCTV 교통 영상(시내도로)/Training/교통안전(Bbox)/images/[원천]중동IC하부(판교진출).zip\n",
      "[unzipping] "
     ]
    },
    {
     "name": "stderr",
     "output_type": "stream",
     "text": [
      " 66%|██████▌   | 44/67 [04:35<05:45, 15.02s/it]"
     ]
    },
    {
     "name": "stdout",
     "output_type": "stream",
     "text": [
      "done!\n",
      "/storage/교통문제 해결을 위한 CCTV 교통 영상(시내도로)/Training/교통안전(Bbox)/images/[원천]신한은행 중동점 부근.zip\n",
      "[unzipping] done!\n"
     ]
    },
    {
     "name": "stderr",
     "output_type": "stream",
     "text": [
      " 67%|██████▋   | 45/67 [04:46<04:59, 13.59s/it]"
     ]
    },
    {
     "name": "stdout",
     "output_type": "stream",
     "text": [
      "/storage/교통문제 해결을 위한 CCTV 교통 영상(시내도로)/Training/교통안전(Bbox)/images/[원천]사단사거리.zip\n",
      "[unzipping] "
     ]
    },
    {
     "name": "stderr",
     "output_type": "stream",
     "text": [
      " 69%|██████▊   | 46/67 [04:52<03:59, 11.42s/it]"
     ]
    },
    {
     "name": "stdout",
     "output_type": "stream",
     "text": [
      "done!\n",
      "/storage/교통문제 해결을 위한 CCTV 교통 영상(시내도로)/Training/교통안전(Bbox)/images/[원천]웨스턴파크 (부천역전우체국 건너편).zip\n",
      "[unzipping] "
     ]
    },
    {
     "name": "stderr",
     "output_type": "stream",
     "text": [
      " 70%|███████   | 47/67 [04:55<02:55,  8.77s/it]"
     ]
    },
    {
     "name": "stdout",
     "output_type": "stream",
     "text": [
      "done!\n",
      "/storage/교통문제 해결을 위한 CCTV 교통 영상(시내도로)/Training/교통안전(Bbox)/images/[원천]과학공원네거리.zip\n",
      "[unzipping] done!\n"
     ]
    },
    {
     "name": "stderr",
     "output_type": "stream",
     "text": [
      " 72%|███████▏  | 48/67 [05:32<05:29, 17.33s/it]"
     ]
    },
    {
     "name": "stdout",
     "output_type": "stream",
     "text": [
      "/storage/교통문제 해결을 위한 CCTV 교통 영상(시내도로)/Training/교통안전(Bbox)/images/[원천]소사회주로삼거리.zip\n",
      "[unzipping] "
     ]
    },
    {
     "name": "stderr",
     "output_type": "stream",
     "text": [
      " 73%|███████▎  | 49/67 [05:39<04:14, 14.14s/it]"
     ]
    },
    {
     "name": "stdout",
     "output_type": "stream",
     "text": [
      "done!\n",
      "/storage/교통문제 해결을 위한 CCTV 교통 영상(시내도로)/Training/교통안전(Bbox)/images/[원천]범계사거리.zip\n",
      "[unzipping] done!\n",
      "/storage/교통문제 해결을 위한 CCTV 교통 영상(시내도로)/Training/교통안전(Bbox)/images/[원천]중동사거리.zip\n",
      "[unzipping] done!\n"
     ]
    },
    {
     "name": "stderr",
     "output_type": "stream",
     "text": [
      " 76%|███████▌  | 51/67 [05:52<02:53, 10.82s/it]"
     ]
    },
    {
     "name": "stdout",
     "output_type": "stream",
     "text": [
      "/storage/교통문제 해결을 위한 CCTV 교통 영상(시내도로)/Training/교통안전(Bbox)/images/[원천]소방서사거리.zip\n",
      "[unzipping] done!\n"
     ]
    },
    {
     "name": "stderr",
     "output_type": "stream",
     "text": [
      " 78%|███████▊  | 52/67 [06:16<03:30, 14.06s/it]"
     ]
    },
    {
     "name": "stdout",
     "output_type": "stream",
     "text": [
      "/storage/교통문제 해결을 위한 CCTV 교통 영상(시내도로)/Training/교통안전(Bbox)/images/[원천]현대블루핸즈 소사점 부근.zip\n",
      "[unzipping] "
     ]
    },
    {
     "name": "stderr",
     "output_type": "stream",
     "text": [
      " 79%|███████▉  | 53/67 [06:18<02:31, 10.81s/it]"
     ]
    },
    {
     "name": "stdout",
     "output_type": "stream",
     "text": [
      "done!\n",
      "/storage/교통문제 해결을 위한 CCTV 교통 영상(시내도로)/Training/교통안전(Bbox)/images/[원천]부천남부역 공영주차장.zip\n",
      "[unzipping] "
     ]
    },
    {
     "name": "stderr",
     "output_type": "stream",
     "text": [
      " 81%|████████  | 54/67 [06:24<02:02,  9.39s/it]"
     ]
    },
    {
     "name": "stdout",
     "output_type": "stream",
     "text": [
      "done!\n",
      "/storage/교통문제 해결을 위한 CCTV 교통 영상(시내도로)/Training/교통안전(Bbox)/images/[원천]오정물류단지(하행).zip\n",
      "[unzipping] "
     ]
    },
    {
     "name": "stderr",
     "output_type": "stream",
     "text": [
      " 82%|████████▏ | 55/67 [06:30<01:43,  8.59s/it]"
     ]
    },
    {
     "name": "stdout",
     "output_type": "stream",
     "text": [
      "done!\n",
      "/storage/교통문제 해결을 위한 CCTV 교통 영상(시내도로)/Training/교통안전(Bbox)/images/[원천]보강센트럴빌 2차 앞.zip\n",
      "[unzipping] "
     ]
    },
    {
     "name": "stderr",
     "output_type": "stream",
     "text": [
      " 84%|████████▎ | 56/67 [06:34<01:19,  7.27s/it]"
     ]
    },
    {
     "name": "stdout",
     "output_type": "stream",
     "text": [
      "done!\n",
      "/storage/교통문제 해결을 위한 CCTV 교통 영상(시내도로)/Training/교통안전(Bbox)/images/[원천]연구단지네거리.zip\n",
      "[unzipping] done!\n"
     ]
    },
    {
     "name": "stderr",
     "output_type": "stream",
     "text": [
      " 85%|████████▌ | 57/67 [07:08<02:28, 14.86s/it]"
     ]
    },
    {
     "name": "stdout",
     "output_type": "stream",
     "text": [
      "/storage/교통문제 해결을 위한 CCTV 교통 영상(시내도로)/Training/교통안전(Bbox)/images/[원천]범박터널-범박1교방향.zip\n",
      "[unzipping] done!\n"
     ]
    },
    {
     "name": "stderr",
     "output_type": "stream",
     "text": [
      " 87%|████████▋ | 58/67 [07:18<02:01, 13.50s/it]"
     ]
    },
    {
     "name": "stdout",
     "output_type": "stream",
     "text": [
      "/storage/교통문제 해결을 위한 CCTV 교통 영상(시내도로)/Training/교통안전(Bbox)/images/[원천]삼정고가교.zip\n",
      "[unzipping] done!\n"
     ]
    },
    {
     "name": "stderr",
     "output_type": "stream",
     "text": [
      " 88%|████████▊ | 59/67 [07:28<01:39, 12.47s/it]"
     ]
    },
    {
     "name": "stdout",
     "output_type": "stream",
     "text": [
      "/storage/교통문제 해결을 위한 CCTV 교통 영상(시내도로)/Training/교통안전(Bbox)/images/[원천]소사역앞.zip\n",
      "[unzipping] "
     ]
    },
    {
     "name": "stderr",
     "output_type": "stream",
     "text": [
      " 90%|████████▉ | 60/67 [07:31<01:07,  9.69s/it]"
     ]
    },
    {
     "name": "stdout",
     "output_type": "stream",
     "text": [
      "done!\n",
      "/storage/교통문제 해결을 위한 CCTV 교통 영상(시내도로)/Training/교통안전(Bbox)/images/[원천]범계역사거리.zip\n",
      "[unzipping] done!\n",
      "/storage/교통문제 해결을 위한 CCTV 교통 영상(시내도로)/Training/교통안전(Bbox)/images/[원천]역곡남부역사거리.zip\n",
      "[unzipping] "
     ]
    },
    {
     "name": "stderr",
     "output_type": "stream",
     "text": [
      " 93%|█████████▎| 62/67 [07:35<00:30,  6.10s/it]"
     ]
    },
    {
     "name": "stdout",
     "output_type": "stream",
     "text": [
      "done!\n",
      "/storage/교통문제 해결을 위한 CCTV 교통 영상(시내도로)/Training/교통안전(Bbox)/images/[원천]유성네거리.zip\n",
      "[unzipping] "
     ]
    },
    {
     "name": "stderr",
     "output_type": "stream",
     "text": [
      " 94%|█████████▍| 63/67 [07:39<00:22,  5.73s/it]"
     ]
    },
    {
     "name": "stdout",
     "output_type": "stream",
     "text": [
      "done!\n",
      "/storage/교통문제 해결을 위한 CCTV 교통 영상(시내도로)/Training/교통안전(Bbox)/images/[원천]멀뫼사거리.zip\n",
      "[unzipping] "
     ]
    },
    {
     "name": "stderr",
     "output_type": "stream",
     "text": [
      " 96%|█████████▌| 64/67 [07:45<00:17,  5.88s/it]"
     ]
    },
    {
     "name": "stdout",
     "output_type": "stream",
     "text": [
      "done!\n",
      "/storage/교통문제 해결을 위한 CCTV 교통 영상(시내도로)/Training/교통안전(Bbox)/images/[원천]아이쇼핑 앞.zip\n",
      "[unzipping] "
     ]
    },
    {
     "name": "stderr",
     "output_type": "stream",
     "text": [
      " 97%|█████████▋| 65/67 [07:54<00:13,  6.72s/it]"
     ]
    },
    {
     "name": "stdout",
     "output_type": "stream",
     "text": [
      "done!\n",
      "/storage/교통문제 해결을 위한 CCTV 교통 영상(시내도로)/Training/교통안전(Bbox)/images/[원천]넘말사거리.zip\n",
      "[unzipping] "
     ]
    },
    {
     "name": "stderr",
     "output_type": "stream",
     "text": [
      " 99%|█████████▊| 66/67 [08:00<00:06,  6.53s/it]"
     ]
    },
    {
     "name": "stdout",
     "output_type": "stream",
     "text": [
      "done!\n",
      "/storage/교통문제 해결을 위한 CCTV 교통 영상(시내도로)/Training/교통안전(Bbox)/images/[원천]LG전자 부천랜드점 부근.zip\n",
      "[unzipping] "
     ]
    },
    {
     "name": "stderr",
     "output_type": "stream",
     "text": [
      "100%|██████████| 67/67 [08:06<00:00,  7.27s/it]"
     ]
    },
    {
     "name": "stdout",
     "output_type": "stream",
     "text": [
      "done!\n"
     ]
    },
    {
     "name": "stderr",
     "output_type": "stream",
     "text": [
      "\n"
     ]
    }
   ],
   "source": [
    "for zip_group in tqdm(dirs) :\n",
    "    print(zip_group)\n",
    "    unzip_dest = zip_group.parent\n",
    "    unzip(zip_group, unzip_dest)\n",
    "    \n",
    "    unzip_folders = list(unzip_dest.glob('*[!zip]'))\n",
    "    for unzip_folder in unzip_folders :        \n",
    "        if 'Training' in str(zip_group) :\n",
    "            extract_dest = train_dest / zip_group.stem\n",
    "        else :\n",
    "            extract_dest = val_dest / zip_group.stem\n",
    "        if not extract_dest.is_dir():\n",
    "            os.makedirs(extract_dest)\n",
    "    \n",
    "        videos = list(unzip_folder.glob('*'))\n",
    "        for video in videos:\n",
    "            extract_one(video, extract_dest)\n",
    "        \n",
    "        shutil.rmtree(unzip_folder)"
   ]
  },
  {
   "attachments": {},
   "cell_type": "markdown",
   "metadata": {},
   "source": [
    "---\n",
    "# 라벨 추출"
   ]
  },
  {
   "cell_type": "code",
   "execution_count": 4,
   "metadata": {},
   "outputs": [
    {
     "name": "stdout",
     "output_type": "stream",
     "text": [
      "/storage/교통문제 해결을 위한 CCTV 교통 영상(시내도로)/Validation/교통안전(Bbox)/labels/kitti_labels/충대서문네거리/SC5863301/20200915_130001_S_24150.txt\n"
     ]
    }
   ],
   "source": [
    "root = Path('/storage/교통문제 해결을 위한 CCTV 교통 영상(시내도로)')\n",
    "labels = list(root.glob('**/labels/kitti_labels/*/*/*.txt'))\n",
    "print(labels[0])\n",
    "\n",
    "val_dest = root / 'Validation/교통안전(Bbox)/frame_labels'\n",
    "train_dest = root / 'Training/교통안전(Bbox)/frame_labels'"
   ]
  },
  {
   "cell_type": "code",
   "execution_count": 12,
   "metadata": {},
   "outputs": [
    {
     "name": "stdout",
     "output_type": "stream",
     "text": [
      "20201017_060010-090105_S_61776.txt\n"
     ]
    },
    {
     "data": {
      "text/plain": [
       "115"
      ]
     },
     "execution_count": 12,
     "metadata": {},
     "output_type": "execute_result"
    }
   ],
   "source": [
    "frame_images = list(root.glob('*/교통안전(Bbox)/frame_image/*/*'))\n",
    "frame_images = list(map(lambda x : x.with_suffix('.txt').name, frame_images))\n",
    "print(frame_images[0])\n",
    "len(frame_images)"
   ]
  },
  {
   "attachments": {},
   "cell_type": "markdown",
   "metadata": {},
   "source": [
    "고속도로 : 라벨이 존재하지 않는 이미지가 있음..!!\n",
    "\n",
    "\n",
    "시내도로 : 라벨이름이 똑같은게있다 "
   ]
  },
  {
   "cell_type": "code",
   "execution_count": 11,
   "metadata": {},
   "outputs": [
    {
     "name": "stdout",
     "output_type": "stream",
     "text": [
      "163909\n"
     ]
    },
    {
     "data": {
      "text/plain": [
       "124847"
      ]
     },
     "execution_count": 11,
     "metadata": {},
     "output_type": "execute_result"
    }
   ],
   "source": [
    "t = list(map(lambda x : x.name, labels))\n",
    "print(t.__len__())\n",
    "len(set(t))"
   ]
  },
  {
   "cell_type": "code",
   "execution_count": 6,
   "metadata": {},
   "outputs": [
    {
     "name": "stdout",
     "output_type": "stream",
     "text": [
      "251 labels copied\n"
     ]
    }
   ],
   "source": [
    "cnt = 0\n",
    "for label in labels:\n",
    "    dest = None\n",
    "    if 'Training' in str(label):\n",
    "        dest = train_dest / label.parents[1].name\n",
    "    else :\n",
    "        dest = val_dest / label.parents[1].name\n",
    "    if not dest.is_dir() :\n",
    "        os.makedirs(dest)\n",
    "        \n",
    "    try :\n",
    "        if label.name in frame_images:\n",
    "            cnt += 1\n",
    "            shutil.copy(str(label), str(dest))\n",
    "    except Exception as e:\n",
    "        print(e)\n",
    "        print(label)\n",
    "print(f'{cnt} labels copied')"
   ]
  },
  {
   "cell_type": "code",
   "execution_count": 7,
   "metadata": {},
   "outputs": [
    {
     "name": "stdout",
     "output_type": "stream",
     "text": [
      "209\n"
     ]
    }
   ],
   "source": [
    "frame_labels = list(root.glob('*/교통안전(Bbox)/frame_labels/*/*'))\n",
    "print(len(frame_labels))"
   ]
  },
  {
   "attachments": {},
   "cell_type": "markdown",
   "metadata": {},
   "source": [
    "# Check"
   ]
  },
  {
   "attachments": {},
   "cell_type": "markdown",
   "metadata": {},
   "source": [
    "### Training"
   ]
  },
  {
   "cell_type": "code",
   "execution_count": 36,
   "metadata": {},
   "outputs": [
    {
     "name": "stdout",
     "output_type": "stream",
     "text": [
      "image len : 70, \n",
      "label len : 151\n"
     ]
    }
   ],
   "source": [
    "training_image = sorted(list(root.glob('Training/교통안전(Bbox)/frame_image/*/*.jpg')))\n",
    "training_label = sorted(list(root.glob('Training/교통안전(Bbox)/frame_labels/*/*.txt')))\n",
    "print(f'image len : {len(training_image)}, \\nlabel len : {len(training_label)}')"
   ]
  },
  {
   "cell_type": "code",
   "execution_count": 38,
   "metadata": {},
   "outputs": [],
   "source": [
    "img_func = lambda x : str(x.with_suffix('')).split(']')[-1]\n",
    "label_func = lambda x : '/'.join(str(x.with_suffix('')).split('/')[-2:])\n",
    "training_image_set = list(map(img_func, training_image))\n",
    "training_label_set = list(map(label_func, training_label))\n",
    "# empty_label = training_image_set - training_label_set\n",
    "# print(len(empty_label))"
   ]
  },
  {
   "cell_type": "code",
   "execution_count": 39,
   "metadata": {},
   "outputs": [
    {
     "name": "stdout",
     "output_type": "stream",
     "text": [
      "70\n",
      "70\n",
      "151\n",
      "151\n"
     ]
    }
   ],
   "source": [
    "print(len(training_image_set))\n",
    "print(len(set(training_image_set)))\n",
    "print(len(training_label_set))\n",
    "print(len(set(training_label_set)))"
   ]
  },
  {
   "cell_type": "code",
   "execution_count": 41,
   "metadata": {},
   "outputs": [
    {
     "name": "stdout",
     "output_type": "stream",
     "text": [
      "81\n"
     ]
    }
   ],
   "source": [
    "over_label = set(training_label_set) - set(training_image_set)\n",
    "print(len(over_label))"
   ]
  },
  {
   "cell_type": "code",
   "execution_count": 42,
   "metadata": {},
   "outputs": [
    {
     "name": "stdout",
     "output_type": "stream",
     "text": [
      "remove 81 images\n"
     ]
    }
   ],
   "source": [
    "cnt = 0\n",
    "for label in training_label :\n",
    "    label_name = label_func(label)\n",
    "    if label_name in over_label:\n",
    "        os.remove(label)\n",
    "        cnt += 1\n",
    "print(f'remove {cnt} images')"
   ]
  },
  {
   "cell_type": "code",
   "execution_count": 43,
   "metadata": {},
   "outputs": [
    {
     "name": "stdout",
     "output_type": "stream",
     "text": [
      "image len : 70, \n",
      "label len : 70\n"
     ]
    }
   ],
   "source": [
    "training_image = sorted(list(root.glob('Training/교통안전(Bbox)/frame_image/*/*')))\n",
    "training_label = sorted(list(root.glob('Training/교통안전(Bbox)/frame_labels/*/*')))\n",
    "print(f'image len : {len(training_image)}, \\nlabel len : {len(training_label)}')"
   ]
  },
  {
   "attachments": {},
   "cell_type": "markdown",
   "metadata": {},
   "source": [
    "### Validation"
   ]
  },
  {
   "cell_type": "code",
   "execution_count": 44,
   "metadata": {},
   "outputs": [
    {
     "name": "stdout",
     "output_type": "stream",
     "text": [
      "image len : 45, \n",
      "label len : 58\n"
     ]
    }
   ],
   "source": [
    "training_image = sorted(list(root.glob('Validation/교통안전(Bbox)/frame_image/*/*')))\n",
    "training_label = sorted(list(root.glob('Validation/교통안전(Bbox)/frame_labels/*/*')))\n",
    "print(f'image len : {len(training_image)}, \\nlabel len : {len(training_label)}')"
   ]
  },
  {
   "cell_type": "code",
   "execution_count": 47,
   "metadata": {},
   "outputs": [
    {
     "name": "stdout",
     "output_type": "stream",
     "text": [
      "13\n"
     ]
    }
   ],
   "source": [
    "training_image_set = set(map(img_func, training_image))\n",
    "training_label_set = set(map(label_func, training_label))\n",
    "empty_label = training_image_set - training_label_set\n",
    "over_label = training_label_set - training_image_set\n",
    "print(len(over_label))"
   ]
  },
  {
   "cell_type": "code",
   "execution_count": 48,
   "metadata": {},
   "outputs": [
    {
     "name": "stdout",
     "output_type": "stream",
     "text": [
      "remove 13 labels\n"
     ]
    }
   ],
   "source": [
    "cnt = 0\n",
    "for label in training_label :\n",
    "    label_name = label_func(label)\n",
    "    if label_name in over_label:\n",
    "        os.remove(label)\n",
    "        cnt += 1\n",
    "print(f'remove {cnt} labels')"
   ]
  },
  {
   "cell_type": "code",
   "execution_count": 50,
   "metadata": {},
   "outputs": [
    {
     "name": "stdout",
     "output_type": "stream",
     "text": [
      "image len : 45, \n",
      "label len : 45\n"
     ]
    }
   ],
   "source": [
    "training_image = sorted(list(root.glob('Validation/교통안전(Bbox)/frame_image/*/*')))\n",
    "training_label = sorted(list(root.glob('Validation/교통안전(Bbox)/frame_labels/*/*')))\n",
    "print(f'image len : {len(training_image)}, \\nlabel len : {len(training_label)}')"
   ]
  },
  {
   "cell_type": "code",
   "execution_count": 106,
   "metadata": {},
   "outputs": [
    {
     "data": {
      "text/plain": [
       "2239"
      ]
     },
     "execution_count": 106,
     "metadata": {},
     "output_type": "execute_result"
    }
   ],
   "source": [
    "2001+238"
   ]
  }
 ],
 "metadata": {
  "kernelspec": {
   "display_name": "Python 3",
   "language": "python",
   "name": "python3"
  },
  "language_info": {
   "codemirror_mode": {
    "name": "ipython",
    "version": 3
   },
   "file_extension": ".py",
   "mimetype": "text/x-python",
   "name": "python",
   "nbconvert_exporter": "python",
   "pygments_lexer": "ipython3",
   "version": "3.8.10 (default, Nov 14 2022, 12:59:47) \n[GCC 9.4.0]"
  },
  "orig_nbformat": 4,
  "vscode": {
   "interpreter": {
    "hash": "916dbcbb3f70747c44a77c7bcd40155683ae19c65e1c03b4aa3499c5328201f1"
   }
  }
 },
 "nbformat": 4,
 "nbformat_minor": 2
}
